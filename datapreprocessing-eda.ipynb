{
 "cells": [
  {
   "cell_type": "code",
   "execution_count": null,
   "id": "967109f9",
   "metadata": {},
   "outputs": [],
   "source": [
    "import numpy as np\n",
    "import pandas as pd\n",
    "import matplotlib as mpl\n",
    "import matplotlib.pyplot as plt\n",
    "import seaborn as sns"
   ]
  },
  {
   "cell_type": "code",
   "execution_count": null,
   "id": "e75bf80b",
   "metadata": {},
   "outputs": [],
   "source": [
    "covid_df = pd.read_csv('owid_covid_data.csv')\n",
    "\n",
    "pd.options.display.max_rows = 4000\n",
    "\n",
    "def missing_report_gen(covid_df):\n",
    "    missing_values = covid_df.isnull().sum()\n",
    "    missing_percent = (missing_values / len(covid_df)) * 100\n",
    "    missing_report = pd.DataFrame({'Missing Values': missing_values, 'Percent Missing': missing_percent})\n",
    "    missing_report = missing_report[missing_report['Missing Values'] > 0]\n",
    "    \n",
    "    return missing_report\n",
    "\n",
    "missing_report = missing_report_gen(covid_df)\n",
    "missing_report"
   ]
  },
  {
   "cell_type": "markdown",
   "id": "6ca9feea",
   "metadata": {},
   "source": [
    "#### Data Preprocessing\n",
    "---"
   ]
  },
  {
   "cell_type": "code",
   "execution_count": null,
   "id": "de4c3469",
   "metadata": {},
   "outputs": [],
   "source": [
    "# Removing columns \n",
    "high_missing_cols = covid_df.columns[covid_df.isnull().mean() > 0.90]\n",
    "medium_missing_cols = covid_df.columns[(covid_df.isnull().mean() > 0.50) & (covid_df.isnull().mean() <= 0.90)]\n",
    "\n",
    "covid_df_clean = covid_df.drop(columns=high_missing_cols).drop(columns=medium_missing_cols)\n",
    "\n",
    "missing_report_clean = missing_report_gen(covid_df_clean)\n",
    "missing_report_clean"
   ]
  },
  {
   "cell_type": "markdown",
   "id": "d645152b",
   "metadata": {},
   "source": [
    "#### Feature Selection and Derivation\n"
   ]
  },
  {
   "cell_type": "code",
   "execution_count": null,
   "id": "3d0e9ee6",
   "metadata": {},
   "outputs": [],
   "source": [
    "covid_df_clean['case_fatality_rate'] = covid_df_clean['total_deaths'] / covid_df_clean['total_cases']\n",
    "covid_df_clean['log_total_cases'] = np.log1p(covid_df_clean['total_cases'])\n",
    "covid_df_clean['log_total_deaths'] = np.log1p(covid_df_clean['total_deaths'])"
   ]
  },
  {
   "cell_type": "markdown",
   "id": "e4254d1b",
   "metadata": {},
   "source": [
    "### Exploratory Data Analysis\n",
    "---"
   ]
  },
  {
   "cell_type": "markdown",
   "id": "cc3d45d9",
   "metadata": {},
   "source": [
    "#### Visualizations"
   ]
  },
  {
   "cell_type": "code",
   "execution_count": null,
   "id": "bdafb528",
   "metadata": {},
   "outputs": [],
   "source": [
    "# Summary statistics for key variables\n",
    "print(covid_df_clean[['total_cases', 'total_deaths', 'gdp_per_capita', 'life_expectancy']].describe())\n",
    "\n",
    "# Histograms for total_cases and total_deaths\n",
    "plt.figure(figsize=(10, 5))\n",
    "sns.histplot(covid_df_clean['log_total_cases'], kde=True, color='lightgreen')\n",
    "plt.title('Distribution of Log Total Cases')\n",
    "plt.xlabel('Log of Total Cases')\n",
    "plt.ylabel('Number of Countries')\n",
    "plt.tight_layout\n",
    "plt.show()\n",
    "\n",
    "plt.figure(figsize=(10, 5))\n",
    "sns.histplot(covid_df_clean['log_total_deaths'], kde=True, color='lightcoral')\n",
    "plt.title('Distribution of Log Total Deaths')\n",
    "plt.xlabel('Log of Total Deaths')\n",
    "plt.ylabel('Number of Countries')\n",
    "plt.tight_layout\n",
    "plt.show()\n",
    "\n",
    "# Scatterplots\n",
    "sns.scatterplot(x='gdp_per_capita', y='log_total_cases', data=covid_df_clean)\n",
    "plt.title('GDP per Capita vs Total COVID-19 Cases (Log Scale)')\n",
    "plt.show()\n",
    "\n",
    "sns.scatterplot(x='human_development_index', y='case_fatality_rate', data=covid_df_clean)\n",
    "plt.title('HDI vs Case Fatality Rate')\n",
    "plt.show()\n",
    "\n",
    "\n",
    "# Boxplot for total_cases by continent\n",
    "sns.boxplot(x='continent', y='log_total_cases', data=covid_df_clean)\n",
    "plt.xticks(rotation=45)\n",
    "plt.title('Log Total Cases by Continent')\n",
    "plt.show()\n"
   ]
  },
  {
   "cell_type": "markdown",
   "id": "d1610a1b",
   "metadata": {},
   "source": [
    "#### Correlation Analysis"
   ]
  },
  {
   "cell_type": "code",
   "execution_count": null,
   "id": "6e74a3f8",
   "metadata": {},
   "outputs": [],
   "source": [
    "corr_vars = [\n",
    "    'total_cases', 'total_deaths', 'case_fatality_rate',\n",
    "    'gdp_per_capita', 'life_expectancy', 'population_density',\n",
    "    'human_development_index', 'median_age', 'aged_65_older'\n",
    "]\n",
    "\n",
    "sns.heatmap(covid_df_clean[corr_vars].corr(method='pearson'), annot=True, cmap='coolwarm', fmt=\".2f\")\n",
    "plt.title('Correlation Between COVID-19 Metrics and Socioeconomic Indicators')\n",
    "plt.show()"
   ]
  }
 ],
 "metadata": {
  "kernelspec": {
   "display_name": ".venv",
   "language": "python",
   "name": "python3"
  },
  "language_info": {
   "codemirror_mode": {
    "name": "ipython",
    "version": 3
   },
   "file_extension": ".py",
   "mimetype": "text/x-python",
   "name": "python",
   "nbconvert_exporter": "python",
   "pygments_lexer": "ipython3",
   "version": "3.12.1"
  }
 },
 "nbformat": 4,
 "nbformat_minor": 5
}
